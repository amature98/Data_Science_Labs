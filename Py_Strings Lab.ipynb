{
 "cells": [
  {
   "cell_type": "markdown",
   "id": "14f9bf86",
   "metadata": {},
   "source": [
    "Below, we have a sentence whose cases are all over the place. \n",
    "Let's normalize the cases and make everything lower case except the first letter in the sentence."
   ]
  },
  {
   "cell_type": "code",
   "execution_count": 2,
   "id": "e13760d6",
   "metadata": {},
   "outputs": [
    {
     "name": "stdout",
     "output_type": "stream",
     "text": [
      "Wow we love coding and strings!\n"
     ]
    }
   ],
   "source": [
    "sentence = \"woW WE LOVE cOdInG and strINGS!\"\n",
    "print(sentence.capitalize())"
   ]
  },
  {
   "cell_type": "markdown",
   "id": "5b7a57dc",
   "metadata": {},
   "source": [
    "Next, we have our Flatiron mantra, but it's not in title case like it should be! \n",
    "Let's fix that and use another string method that makes all strings first letter capitalized."
   ]
  },
  {
   "cell_type": "code",
   "execution_count": 1,
   "id": "0494368b",
   "metadata": {},
   "outputs": [
    {
     "name": "stdout",
     "output_type": "stream",
     "text": [
      "Learn. Love. Code.\n"
     ]
    }
   ],
   "source": [
    "flatiron_mantra = \"learn. love. code.\"\n",
    "print(flatiron_mantra.title())"
   ]
  },
  {
   "cell_type": "markdown",
   "id": "8153dd19",
   "metadata": {},
   "source": [
    "The next thing we want to do is practice turning other data types into strings. Below, we have a number 1234, which happens to be our street number in our address, which is a string. So, let's turn the number into a string so we can eventually add it to our address. The process of linking different strings together is called concatenation"
   ]
  },
  {
   "cell_type": "code",
   "execution_count": 2,
   "id": "0ac20ff6",
   "metadata": {},
   "outputs": [
    {
     "name": "stdout",
     "output_type": "stream",
     "text": [
      "1234\n"
     ]
    }
   ],
   "source": [
    "num_to_string = 1234\n",
    "address_code = str(num_to_string)\n",
    "print(address_code)"
   ]
  },
  {
   "cell_type": "markdown",
   "id": "c8f6f741",
   "metadata": {},
   "source": [
    "Let's take the num_to_string and add it to the beginning of our street address below. We need to concatenate the variable to the beginning of our string so that we have our full address all in one string and assigned to the variable full_address. "
   ]
  },
  {
   "cell_type": "code",
   "execution_count": 9,
   "id": "0c08a335",
   "metadata": {},
   "outputs": [
    {
     "name": "stdout",
     "output_type": "stream",
     "text": [
      "1234 Abc street, Hometown USA\n"
     ]
    }
   ],
   "source": [
    "full_address = address_code + \" Abc street, Hometown USA\"\n",
    "print(full_address)"
   ]
  },
  {
   "cell_type": "markdown",
   "id": "64f5f948",
   "metadata": {},
   "source": [
    "Finally, let's replace some of the characters in a string. Let's say Bart is upset with his family and wants to be adopted by the Flanders family. How would you replace his last name?"
   ]
  },
  {
   "cell_type": "code",
   "execution_count": 12,
   "id": "557ab10d",
   "metadata": {},
   "outputs": [
    {
     "name": "stdout",
     "output_type": "stream",
     "text": [
      "Bart Flander\n"
     ]
    }
   ],
   "source": [
    "name = \"Bart Simpson\"\n",
    "name = name.replace('Simpson', 'Flander')\n",
    "print(name)"
   ]
  },
  {
   "cell_type": "markdown",
   "id": "6394a7ac",
   "metadata": {},
   "source": [
    "Our first problem will be to capitalize the first letter of each word in \"art vandelay\". Find the correct string method to capitalize both the first and last names."
   ]
  },
  {
   "cell_type": "code",
   "execution_count": 1,
   "id": "64739fe0",
   "metadata": {},
   "outputs": [
    {
     "data": {
      "text/plain": [
       "'Art vandelay'"
      ]
     },
     "execution_count": 1,
     "metadata": {},
     "output_type": "execute_result"
    }
   ],
   "source": [
    "art_vandelay = 'art vandelay'\n",
    "art_vandelay.capitalize()"
   ]
  },
  {
   "cell_type": "markdown",
   "id": "8babbbfc",
   "metadata": {},
   "source": [
    "Now let's turn all the letters of \"Ceo\" to uppercase."
   ]
  },
  {
   "cell_type": "code",
   "execution_count": 2,
   "id": "9ccbd321",
   "metadata": {},
   "outputs": [
    {
     "data": {
      "text/plain": [
       "'CEO'"
      ]
     },
     "execution_count": 2,
     "metadata": {},
     "output_type": "execute_result"
    }
   ],
   "source": [
    "ceo = 'ceo'\n",
    "ceo.upper()"
   ]
  },
  {
   "cell_type": "markdown",
   "id": "908f730e",
   "metadata": {},
   "source": [
    "Next we will need our code to answer a question about email addresses. Every email address should end with \".com\". Find the right string method to check if the email address ends with \".com\" and return True or False accordingly."
   ]
  },
  {
   "cell_type": "code",
   "execution_count": 3,
   "id": "497cb3e5",
   "metadata": {},
   "outputs": [
    {
     "data": {
      "text/plain": [
       "False"
      ]
     },
     "execution_count": 3,
     "metadata": {},
     "output_type": "execute_result"
    }
   ],
   "source": [
    "ends_with_com = \"art.vandelay@vandelay.co\" # False\n",
    "ends_with_com.endswith('com')"
   ]
  },
  {
   "cell_type": "markdown",
   "id": "f344fc0c",
   "metadata": {},
   "source": [
    "As you can see below, the website \"vandelay.com\" is not preceded by \"www.\". We can perform what is called string concatenation to fix this! Use the plus sign, '+', to change the website 'vandelay.com' to the string 'www.vandelay.com' by prepending 'www.'"
   ]
  },
  {
   "cell_type": "code",
   "execution_count": null,
   "id": "5b56614d",
   "metadata": {},
   "outputs": [],
   "source": [
    "web_address = 'vandelay.com' # 'www.vandelay.com'\n",
    "web_address = 'www.' + web_address\n",
    "print(web_address)"
   ]
  },
  {
   "cell_type": "markdown",
   "id": "7718707b",
   "metadata": {},
   "source": [
    "Finally, Mr. Vandelay gave us his phone number, but he actually has two other phone numbers that are different from the one listed on his business card. All three numbers are basically the same with the exception of the ending. Below, start by coercing the first phone number, which is currently a string, to an int and add one. Next do the same to the second phone number but increase it by two."
   ]
  },
  {
   "cell_type": "code",
   "execution_count": null,
   "id": "351d5855",
   "metadata": {},
   "outputs": [],
   "source": [
    "phone_num_one = \"7285553334\"\n",
    "#Coercing the first phone number to an integer\n",
    "phone_num_one = int(phone_num_one) + 1\n",
    "print(phone_num_one)\n",
    "#the second phone number\n",
    "phone_num_two = \"7285553334\" \n",
    "phone_num_two = int(phone_num_two) + 2\n",
    "print(phone_num_two)"
   ]
  }
 ],
 "metadata": {
  "kernelspec": {
   "display_name": "Python 3 (ipykernel)",
   "language": "python",
   "name": "python3"
  },
  "language_info": {
   "codemirror_mode": {
    "name": "ipython",
    "version": 3
   },
   "file_extension": ".py",
   "mimetype": "text/x-python",
   "name": "python",
   "nbconvert_exporter": "python",
   "pygments_lexer": "ipython3",
   "version": "3.11.0"
  }
 },
 "nbformat": 4,
 "nbformat_minor": 5
}
